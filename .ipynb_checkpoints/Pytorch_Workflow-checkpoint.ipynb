{
 "cells": [
  {
   "cell_type": "markdown",
   "id": "42b0f8df",
   "metadata": {},
   "source": [
    "# Pytorch WorkFlow\n",
    "\n",
    "### resources\n",
    "\n",
    "* Python Notebook - [NoteBook](https://www.youtube.com/redirect?event=video_description&redir_token=QUFFLUhqbE5weFNoSEk2a1A0N0tzdWlCay1sa1hxTVdad3xBQ3Jtc0ttcTR2RG5CQXNLMFF4a3F1OElobnZEX3I4VXM2WWtNNjFUUzRva2J0ZXN5N0FBTUtENjhSX1h6WTR0ZF9rVC1QNGM3RW42c3FCNjFhM1dSOXFXME1rSzRtaDBnTkR1SXU2aVpQX0VtR0o5TDlvZ0VDMA&q=https%3A%2F%2Fgithub.com%2Fmrdbourke%2Fpytorch-deep-learning&v=V_xro1bcAuA)\n",
    "\n",
    "* Book Version - [Website](https://www.youtube.com/redirect?event=video_description&redir_token=QUFFLUhqblNtbHlQMGJidXhnRXlMVkttcnBhcnp0Z1NuZ3xBQ3Jtc0tsWXE2RXc5MXQyUTdwWV83cEZTNEJPSDNKTHJJMFdraW1FNkZDYnRtN0I2WW0xeXE0RWl6STFoVW00bFVsNWxmWk12WjUyeEpvQy1sVlBOcVVveklfcDJpV0pNWmxhUTBqd25pSkVJaXZTa2JOdWU5QQ&q=https%3A%2F%2Flearnpytorch.io%2F&v=V_xro1bcAuA)"
   ]
  },
  {
   "cell_type": "code",
   "execution_count": null,
   "id": "7959f856",
   "metadata": {},
   "outputs": [],
   "source": []
  }
 ],
 "metadata": {
  "kernelspec": {
   "display_name": "pyt",
   "language": "python",
   "name": "pyt"
  },
  "language_info": {
   "codemirror_mode": {
    "name": "ipython",
    "version": 3
   },
   "file_extension": ".py",
   "mimetype": "text/x-python",
   "name": "python",
   "nbconvert_exporter": "python",
   "pygments_lexer": "ipython3",
   "version": "3.11.0"
  }
 },
 "nbformat": 4,
 "nbformat_minor": 5
}
