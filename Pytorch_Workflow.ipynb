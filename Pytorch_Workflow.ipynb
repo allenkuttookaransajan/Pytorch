{
 "cells": [
  {
   "cell_type": "markdown",
   "id": "da1583bb",
   "metadata": {},
   "source": [
    "# Pytorch WorkFlow\n",
    "---\n",
    "\n",
    "### Resources\n",
    "---\n",
    "\n",
    "* Python Notebook - [NoteBook](https://www.youtube.com/redirect?event=video_description&redir_token=QUFFLUhqbE5weFNoSEk2a1A0N0tzdWlCay1sa1hxTVdad3xBQ3Jtc0ttcTR2RG5CQXNLMFF4a3F1OElobnZEX3I4VXM2WWtNNjFUUzRva2J0ZXN5N0FBTUtENjhSX1h6WTR0ZF9rVC1QNGM3RW42c3FCNjFhM1dSOXFXME1rSzRtaDBnTkR1SXU2aVpQX0VtR0o5TDlvZ0VDMA&q=https%3A%2F%2Fgithub.com%2Fmrdbourke%2Fpytorch-deep-learning&v=V_xro1bcAuA)\n",
    "\n",
    "* Book Version - [Website](https://www.youtube.com/redirect?event=video_description&redir_token=QUFFLUhqblNtbHlQMGJidXhnRXlMVkttcnBhcnp0Z1NuZ3xBQ3Jtc0tsWXE2RXc5MXQyUTdwWV83cEZTNEJPSDNKTHJJMFdraW1FNkZDYnRtN0I2WW0xeXE0RWl6STFoVW00bFVsNWxmWk12WjUyeEpvQy1sVlBOcVVveklfcDJpV0pNWmxhUTBqd25pSkVJaXZTa2JOdWU5QQ&q=https%3A%2F%2Flearnpytorch.io%2F&v=V_xro1bcAuA)"
   ]
  },
  {
   "cell_type": "markdown",
   "id": "943e1cb8",
   "metadata": {},
   "source": [
    "## Syllabus\n",
    "---\n",
    "\n",
    "* Data\n",
    "* Build Model\n",
    "* Fitting the model\n",
    "* Evaluate the model\n",
    "* saving and loading\n",
    "* putting it all together"
   ]
  },
  {
   "cell_type": "code",
   "execution_count": 4,
   "id": "dfaff149",
   "metadata": {},
   "outputs": [
    {
     "data": {
      "text/plain": [
       "'2.0.1'"
      ]
     },
     "execution_count": 4,
     "metadata": {},
     "output_type": "execute_result"
    }
   ],
   "source": [
    "import torch\n",
    "from torch import nn #Building Block for neural network\n",
    "import matplotlib.pyplot as plt\n",
    "\n",
    "torch.__version__"
   ]
  },
  {
   "cell_type": "markdown",
   "id": "61374a8f",
   "metadata": {},
   "source": [
    "## Data (Preparing and Loading)\n",
    "\n",
    "* Excel Spreadsheets (csv)\n",
    "* Images\n",
    "* Videos\n",
    "* Audio\n",
    "* Text\n",
    "* DNA\n",
    "\n",
    "Machine Learning :\n",
    "\n",
    "1. Get Data and convert into numerical representation\n",
    "2. Build model to learn patterns in the numerical representation\n",
    "\n",
    "Import data and apply linear regression formula\n",
    "\n",
    "In statistical modeling, regression analysis is a set of statistical processes for estimating the relationships between a dependent variable and one or more independent variables"
   ]
  },
  {
   "cell_type": "code",
   "execution_count": 6,
   "id": "d2e68529",
   "metadata": {},
   "outputs": [
    {
     "data": {
      "text/plain": [
       "(tensor([[0.0000],\n",
       "         [0.0200],\n",
       "         [0.0400],\n",
       "         [0.0600],\n",
       "         [0.0800],\n",
       "         [0.1000],\n",
       "         [0.1200],\n",
       "         [0.1400],\n",
       "         [0.1600],\n",
       "         [0.1800]]),\n",
       " tensor([[0.3000],\n",
       "         [0.3140],\n",
       "         [0.3280],\n",
       "         [0.3420],\n",
       "         [0.3560],\n",
       "         [0.3700],\n",
       "         [0.3840],\n",
       "         [0.3980],\n",
       "         [0.4120],\n",
       "         [0.4260]]))"
      ]
     },
     "execution_count": 6,
     "metadata": {},
     "output_type": "execute_result"
    }
   ],
   "source": [
    "# Y = aX + b\n",
    "weight = 0.7 # a\n",
    "bias = 0.3 # b\n",
    "\n",
    "start = 0\n",
    "end = 1\n",
    "step = 0.02\n",
    "X = torch.arange(start, end, step).unsqueeze(dim=1)\n",
    "y = weight * X + bias\n",
    "\n",
    "X[:10], y[:10]"
   ]
  },
  {
   "cell_type": "code",
   "execution_count": 7,
   "id": "74d41605",
   "metadata": {},
   "outputs": [
    {
     "data": {
      "text/plain": [
       "(50, 50)"
      ]
     },
     "execution_count": 7,
     "metadata": {},
     "output_type": "execute_result"
    }
   ],
   "source": [
    "len(X), len(y)"
   ]
  },
  {
   "cell_type": "markdown",
   "id": "bd9d5f11",
   "metadata": {},
   "source": [
    "## Splitting data into training and test sets\n",
    "\n",
    "* Training Set\n",
    "* Validation Set\n",
    "* Test Set"
   ]
  },
  {
   "cell_type": "code",
   "execution_count": 11,
   "id": "11bd0996",
   "metadata": {},
   "outputs": [
    {
     "data": {
      "text/plain": [
       "(40, 40, 10, 10)"
      ]
     },
     "execution_count": 11,
     "metadata": {},
     "output_type": "execute_result"
    }
   ],
   "source": [
    "# Create train set\n",
    "train_split = int(0.8 * len(X))\n",
    "X_train, y_train = X[:train_split], y[:train_split]\n",
    "X_test, y_test = X[train_split:], y[train_split:]\n",
    "\n",
    "len(X_train), len(y_train), len(X_test), len(y_test)"
   ]
  },
  {
   "cell_type": "code",
   "execution_count": 12,
   "id": "2aa137d5",
   "metadata": {},
   "outputs": [
    {
     "data": {
      "text/plain": [
       "(tensor([[0.0000],\n",
       "         [0.0200],\n",
       "         [0.0400],\n",
       "         [0.0600],\n",
       "         [0.0800],\n",
       "         [0.1000],\n",
       "         [0.1200],\n",
       "         [0.1400],\n",
       "         [0.1600],\n",
       "         [0.1800],\n",
       "         [0.2000],\n",
       "         [0.2200],\n",
       "         [0.2400],\n",
       "         [0.2600],\n",
       "         [0.2800],\n",
       "         [0.3000],\n",
       "         [0.3200],\n",
       "         [0.3400],\n",
       "         [0.3600],\n",
       "         [0.3800],\n",
       "         [0.4000],\n",
       "         [0.4200],\n",
       "         [0.4400],\n",
       "         [0.4600],\n",
       "         [0.4800],\n",
       "         [0.5000],\n",
       "         [0.5200],\n",
       "         [0.5400],\n",
       "         [0.5600],\n",
       "         [0.5800],\n",
       "         [0.6000],\n",
       "         [0.6200],\n",
       "         [0.6400],\n",
       "         [0.6600],\n",
       "         [0.6800],\n",
       "         [0.7000],\n",
       "         [0.7200],\n",
       "         [0.7400],\n",
       "         [0.7600],\n",
       "         [0.7800]]),\n",
       " tensor([[0.3000],\n",
       "         [0.3140],\n",
       "         [0.3280],\n",
       "         [0.3420],\n",
       "         [0.3560],\n",
       "         [0.3700],\n",
       "         [0.3840],\n",
       "         [0.3980],\n",
       "         [0.4120],\n",
       "         [0.4260],\n",
       "         [0.4400],\n",
       "         [0.4540],\n",
       "         [0.4680],\n",
       "         [0.4820],\n",
       "         [0.4960],\n",
       "         [0.5100],\n",
       "         [0.5240],\n",
       "         [0.5380],\n",
       "         [0.5520],\n",
       "         [0.5660],\n",
       "         [0.5800],\n",
       "         [0.5940],\n",
       "         [0.6080],\n",
       "         [0.6220],\n",
       "         [0.6360],\n",
       "         [0.6500],\n",
       "         [0.6640],\n",
       "         [0.6780],\n",
       "         [0.6920],\n",
       "         [0.7060],\n",
       "         [0.7200],\n",
       "         [0.7340],\n",
       "         [0.7480],\n",
       "         [0.7620],\n",
       "         [0.7760],\n",
       "         [0.7900],\n",
       "         [0.8040],\n",
       "         [0.8180],\n",
       "         [0.8320],\n",
       "         [0.8460]]))"
      ]
     },
     "execution_count": 12,
     "metadata": {},
     "output_type": "execute_result"
    }
   ],
   "source": [
    "X_train, y_train"
   ]
  },
  {
   "cell_type": "markdown",
   "id": "581426e8",
   "metadata": {},
   "source": [
    "How can we visualise it?\n"
   ]
  },
  {
   "cell_type": "code",
   "execution_count": 17,
   "id": "6e4dc1dd",
   "metadata": {},
   "outputs": [],
   "source": [
    "def plot_predictions(train_data=X_train,\n",
    "                    train_labels=y_train,\n",
    "                    test_data=X_test,\n",
    "                    test_labels=y_test,\n",
    "                    predictions=None):\n",
    "    \n",
    "    plt.figure(figsize=(10,7))\n",
    "    plt.scatter(train_data, train_labels, c=\"b\", s=4, label=\"Training Data\")\n",
    "    plt.scatter(test_data, test_labels, c=\"g\", s=4, label=\"Tetsing data\")\n",
    "    \n",
    "    if predictions is not None:\n",
    "        plt.scatter(test_data, predections, c=\"r\", label=\"Predictions\")\n",
    "    \n",
    "    plt.legend(prop={\"size\": 14});"
   ]
  },
  {
   "cell_type": "code",
   "execution_count": 18,
   "id": "8e08407c",
   "metadata": {},
   "outputs": [
    {
     "data": {
      "image/png": "[encoded data removed]",
      "text/plain": [
       "<Figure size 720x504 with 1 Axes>"
      ]
     },
     "metadata": {
      "needs_background": "light"
     },
     "output_type": "display_data"
    }
   ],
   "source": [
    "plot_predictions();"
   ]
  },
  {
   "cell_type": "code",
   "execution_count": null,
   "id": "4990bc1d",
   "metadata": {},
   "outputs": [],
   "source": []
  }
 ],
 "metadata": {
  "kernelspec": {
   "display_name": "pyt",
   "language": "python",
   "name": "pyt"
  },
  "language_info": {
   "codemirror_mode": {
    "name": "ipython",
    "version": 3
   },
   "file_extension": ".py",
   "mimetype": "text/x-python",
   "name": "python",
   "nbconvert_exporter": "python",
   "pygments_lexer": "ipython3",
   "version": "3.11.0"
  }
 },
 "nbformat": 4,
 "nbformat_minor": 5
}
